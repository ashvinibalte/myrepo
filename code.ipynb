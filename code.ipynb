{
 "cells": [
  {
   "cell_type": "code",
   "execution_count": 41,
   "id": "9f254966",
   "metadata": {},
   "outputs": [],
   "source": [
    "import os\n",
    "import re\n",
    "import sys\n",
    "from pathlib import Path"
   ]
  },
  {
   "cell_type": "code",
   "execution_count": 42,
   "id": "e08e719b",
   "metadata": {},
   "outputs": [],
   "source": [
    "import win32com.client as win32  # type: ignore\n"
   ]
  },
  {
   "cell_type": "code",
   "execution_count": 43,
   "id": "3616c9ef",
   "metadata": {},
   "outputs": [],
   "source": [
    "SUPPORTED_EXTS = {\".csv\", \".xlsx\", \".xlsm\", \".pptx\", \".docx\"}\n",
    "# Office constants\n",
    "WD_EXPORT_PDF = 17\n",
    "XL_TYPE_PDF = 0\n",
    "PP_SAVE_AS_PDF = 32\n",
    "XL_SHEET_VISIBLE = -1  # visible (vs 0 hidden, 2 very hidden)"
   ]
  },
  {
   "cell_type": "code",
   "execution_count": 44,
   "id": "0da46e0c",
   "metadata": {},
   "outputs": [],
   "source": [
    "def sanitize_filename_part(name: str, max_len: int = 80) -> str:\n",
    "    \"\"\"Make a string safe to use in file names.\"\"\"\n",
    "    name = re.sub(r'[<>:\"/\\\\|?*\\x00-\\x1F]', \"_\", name)\n",
    "    name = name.strip().strip(\".\")  # no trailing dots/spaces\n",
    "    if len(name) > max_len:\n",
    "        name = name[:max_len].rstrip()\n",
    "    return name or \"Sheet\""
   ]
  },
  {
   "cell_type": "code",
   "execution_count": 45,
   "id": "5cd8bfa9",
   "metadata": {},
   "outputs": [],
   "source": [
    "class OfficeApps:\n",
    "    \"\"\"Lazy-initialize Office applications and quit them cleanly at the end.\"\"\"\n",
    "    def __init__(self):\n",
    "        self.word = None\n",
    "        self.excel = None\n",
    "        self.ppt = None\n",
    "\n",
    "    def get_word(self):\n",
    "        if self.word is None:\n",
    "            self.word = win32.gencache.EnsureDispatch(\"Word.Application\")\n",
    "            self.word.Visible = False\n",
    "        return self.word\n",
    "\n",
    "    def get_excel(self):\n",
    "        if self.excel is None:\n",
    "            self.excel = win32.gencache.EnsureDispatch(\"Excel.Application\")\n",
    "            self.excel.Visible = False\n",
    "            self.excel.DisplayAlerts = False\n",
    "        return self.excel\n",
    "\n",
    "    def get_ppt(self):\n",
    "        if self.ppt is None:\n",
    "            self.ppt = win32.gencache.EnsureDispatch(\"PowerPoint.Application\")\n",
    "        return self.ppt\n",
    "\n",
    "    def close(self):\n",
    "        for app in (\"word\", \"excel\", \"ppt\"):\n",
    "            inst = getattr(self, app, None)\n",
    "            if inst is not None:\n",
    "                try:\n",
    "                    inst.Quit()\n",
    "                except Exception:\n",
    "                    pass"
   ]
  },
  {
   "cell_type": "code",
   "execution_count": 46,
   "id": "27f0f595",
   "metadata": {},
   "outputs": [],
   "source": [
    "def export_word_to_pdf(word_app, src: Path, dst_pdf: Path):\n",
    "    doc = None\n",
    "    try:\n",
    "        doc = word_app.Documents.Open(str(src))\n",
    "        doc.ExportAsFixedFormat(str(dst_pdf), WD_EXPORT_PDF)\n",
    "    finally:\n",
    "        if doc is not None:\n",
    "            doc.Close(False)"
   ]
  },
  {
   "cell_type": "code",
   "execution_count": 47,
   "id": "2663d197",
   "metadata": {},
   "outputs": [],
   "source": [
    "def export_ppt_to_pdf(ppt_app, src: Path, dst_pdf: Path):\n",
    "    pres = None\n",
    "    try:\n",
    "        pres = ppt_app.Presentations.Open(str(src), WithWindow=False)\n",
    "        pres.SaveAs(str(dst_pdf), PP_SAVE_AS_PDF)\n",
    "    finally:\n",
    "        if pres is not None:\n",
    "            pres.Close()"
   ]
  },
  {
   "cell_type": "code",
   "execution_count": 48,
   "id": "aa1cfc00",
   "metadata": {},
   "outputs": [],
   "source": [
    "def export_excel_sheet_pdfs(excel_app, src: Path, out_dir: Path):\n",
    "    \"\"\"\n",
    "    Export visible sheets from an Excel workbook:\n",
    "    - If 1 visible sheet -> export single PDF \"<stem>.pdf\"\n",
    "    - If >1 visible sheets -> export one PDF per sheet \"<stem>_<sheet>.pdf\"\n",
    "    \"\"\"\n",
    "    wb = None\n",
    "    try:\n",
    "        # ReadOnly to avoid prompts; UpdateLinks=0 to skip link updates\n",
    "        wb = excel_app.Workbooks.Open(str(src), UpdateLinks=0, ReadOnly=True)\n",
    "        sheets = [ws for ws in wb.Worksheets if ws.Visible == XL_SHEET_VISIBLE]\n",
    "\n",
    "        # No visible sheets -> export whole workbook fallback\n",
    "        if len(sheets) == 0:\n",
    "            target = out_dir / f\"{src.stem}.pdf\"\n",
    "            wb.ExportAsFixedFormat(XL_TYPE_PDF, str(target))\n",
    "            return\n",
    "\n",
    "        if len(sheets) == 1:\n",
    "            target = out_dir / f\"{src.stem}.pdf\"\n",
    "            # Export the single visible sheet only\n",
    "            sheets[0].ExportAsFixedFormat(XL_TYPE_PDF, str(target))\n",
    "            return\n",
    "\n",
    "        # Multiple visible sheets: export each separately\n",
    "        print(f\"{src.name}: {len(sheets)} visible sheets -> exporting each to its own PDF\")\n",
    "        for ws in sheets:\n",
    "            sheet_name = sanitize_filename_part(ws.Name)\n",
    "            target = out_dir / f\"{src.stem}_{sheet_name}.pdf\"\n",
    "            ws.ExportAsFixedFormat(XL_TYPE_PDF, str(target))\n",
    "\n",
    "    finally:\n",
    "        if wb is not None:\n",
    "            wb.Close(False)\n"
   ]
  },
  {
   "cell_type": "code",
   "execution_count": 49,
   "id": "6151c56f",
   "metadata": {},
   "outputs": [],
   "source": [
    "def convert_one(apps: OfficeApps, src: Path, out_dir: Path):\n",
    "    out_dir.mkdir(parents=True, exist_ok=True)\n",
    "    ext = src.suffix.lower()\n",
    "\n",
    "    if ext in {\".docx\"}:\n",
    "        dst = out_dir / f\"{src.stem}.pdf\"\n",
    "        export_word_to_pdf(apps.get_word(), src, dst)\n",
    "        return True\n",
    "\n",
    "    if ext in {\".pptx\"}:\n",
    "        dst = out_dir / f\"{src.stem}.pdf\"\n",
    "        export_ppt_to_pdf(apps.get_ppt(), src, dst)\n",
    "        return True\n",
    "\n",
    "    if ext in {\".xlsx\", \".xlsm\", \".csv\"}:\n",
    "        # For CSV and Excel, we use Excel. CSV opens as a single worksheet.\n",
    "        export_excel_sheet_pdfs(apps.get_excel(), src, out_dir)\n",
    "        return True\n",
    "\n",
    "    return False  # unsupported"
   ]
  },
  {
   "cell_type": "code",
   "execution_count": 50,
   "id": "f966bc8f",
   "metadata": {},
   "outputs": [
    {
     "name": "stdout",
     "output_type": "stream",
     "text": [
      "\n",
      "Converted files: 0\n",
      "Failures:\n",
      " - C:\\Users\\Ashvini\\Downloads\\InputFiles\\Node_Exporter_Metrics.csv\n",
      "   (-2147352567, 'Exception occurred.', (0, None, None, None, 0, -2146827284), None)\n"
     ]
    },
    {
     "name": "stderr",
     "output_type": "stream",
     "text": [
      "FAIL -> C:\\Users\\Ashvini\\Downloads\\InputFiles\\Node_Exporter_Metrics.csv : (-2147352567, 'Exception occurred.', (0, None, None, None, 0, -2146827284), None)\n"
     ]
    }
   ],
   "source": [
    "def walk_and_convert(in_root: Path, out_root: Path):\n",
    "    apps = OfficeApps()\n",
    "    converted, failed = 0, []\n",
    "\n",
    "    try:\n",
    "        for root, _, files in os.walk(in_root):\n",
    "            for name in files:\n",
    "                src = Path(root) / name\n",
    "                if src.suffix.lower() not in SUPPORTED_EXTS:\n",
    "                    continue\n",
    "                rel_dir = Path(root).relative_to(in_root)\n",
    "                dst_dir = out_root / rel_dir\n",
    "\n",
    "                try:\n",
    "                    ok = convert_one(apps, src, dst_dir)\n",
    "                    if ok:\n",
    "                        converted += 1\n",
    "                        print(f\"OK   -> {src}\")\n",
    "                    else:\n",
    "                        print(f\"SKIP -> {src}\")\n",
    "                except Exception as e:\n",
    "                    failed.append((str(src), str(e)))\n",
    "                    print(f\"FAIL -> {src} : {e}\", file=sys.stderr)\n",
    "    finally:\n",
    "        apps.close()\n",
    "\n",
    "    print(f\"\\nConverted files: {converted}\")\n",
    "    if failed:\n",
    "        print(\"Failures:\")\n",
    "        for f, err in failed:\n",
    "            print(f\" - {f}\\n   {err}\")\n",
    "\n",
    "if __name__ == \"__main__\":\n",
    "    # Hard-coded input and output folders\n",
    "    in_dir = Path(r\"C:\\Users\\Ashvini\\Downloads\\InputFiles\").resolve()\n",
    "    out_dir = Path(r\"C:\\Users\\Ashvini\\Downloads\\OutputPDFs\").resolve()\n",
    "\n",
    "    # Make sure output folder exists\n",
    "    out_dir.mkdir(parents=True, exist_ok=True)\n",
    "\n",
    "    # Run conversion\n",
    "    walk_and_convert(in_dir, out_dir)\n"
   ]
  }
 ],
 "metadata": {
  "kernelspec": {
   "display_name": "Python 3",
   "language": "python",
   "name": "python3"
  },
  "language_info": {
   "codemirror_mode": {
    "name": "ipython",
    "version": 3
   },
   "file_extension": ".py",
   "mimetype": "text/x-python",
   "name": "python",
   "nbconvert_exporter": "python",
   "pygments_lexer": "ipython3",
   "version": "3.9.2"
  }
 },
 "nbformat": 4,
 "nbformat_minor": 5
}
