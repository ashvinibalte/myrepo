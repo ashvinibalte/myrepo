{
 "cells": [
  {
   "cell_type": "code",
   "execution_count": 1,
   "id": "6705d967",
   "metadata": {},
   "outputs": [],
   "source": [
    "import os\n",
    "import re\n",
    "import sys\n",
    "from pathlib import Path\n",
    "\n",
    "# pip install pywin32\n",
    "import win32com.client as win32  # type: ignore"
   ]
  },
  {
   "cell_type": "code",
   "execution_count": 2,
   "id": "c74a4191",
   "metadata": {},
   "outputs": [],
   "source": [
    "SUPPORTED_EXTS = {\".csv\", \".xlsx\", \".xlsm\", \".pptx\", \".docx\"}\n",
    "\n",
    "# Office COM numeric constants (so we don't need makepy)\n",
    "WD_EXPORT_PDF = 17          # wdExportFormatPDF\n",
    "XL_TYPE_PDF = 0             # xlTypePDF\n",
    "PP_SAVE_AS_PDF = 32         # ppSaveAsPDF\n",
    "XL_SHEET_VISIBLE = -1       # xlSheetVisible (-1), hidden=0, veryHidden=2\n"
   ]
  },
  {
   "cell_type": "code",
   "execution_count": 3,
   "id": "fef6f2c5",
   "metadata": {},
   "outputs": [],
   "source": [
    "def sanitize_filename_part(name: str, max_len: int = 80) -> str:\n",
    "    name = re.sub(r'[<>:\"/\\\\|?*\\x00-\\x1F]', \"_\", name)\n",
    "    name = name.strip().strip(\".\")\n",
    "    if len(name) > max_len:\n",
    "        name = name[:max_len].rstrip()\n",
    "    return name or \"Sheet\""
   ]
  },
  {
   "cell_type": "code",
   "execution_count": 4,
   "id": "b00a5ca2",
   "metadata": {},
   "outputs": [],
   "source": [
    "class OfficeApps:\n",
    "    \"\"\"Late-binding (DispatchEx) so makepy is NOT required.\"\"\"\n",
    "    def __init__(self):\n",
    "        self.word = None\n",
    "        self.excel = None\n",
    "        self.ppt = None\n",
    "\n",
    "    def get_word(self):\n",
    "        if self.word is None:\n",
    "            self.word = win32.DispatchEx(\"Word.Application\")  # late-binding\n",
    "            self.word.Visible = False\n",
    "        return self.word\n",
    "\n",
    "    def get_excel(self):\n",
    "        if self.excel is None:\n",
    "            self.excel = win32.DispatchEx(\"Excel.Application\")  # late-binding\n",
    "            self.excel.Visible = False\n",
    "            self.excel.DisplayAlerts = False\n",
    "        return self.excel\n",
    "\n",
    "    def get_ppt(self):\n",
    "        if self.ppt is None:\n",
    "            self.ppt = win32.DispatchEx(\"PowerPoint.Application\")  # late-binding\n",
    "            # No window shown by default\n",
    "        return self.ppt\n",
    "\n",
    "    def close(self):\n",
    "        for app in (\"word\", \"excel\", \"ppt\"):\n",
    "            inst = getattr(self, app, None)\n",
    "            if inst is not None:\n",
    "                try:\n",
    "                    inst.Quit()\n",
    "                except Exception:\n",
    "                    pass"
   ]
  },
  {
   "cell_type": "code",
   "execution_count": 5,
   "id": "7c4428e4",
   "metadata": {},
   "outputs": [],
   "source": [
    "def export_word_to_pdf(word_app, src: Path, dst_pdf: Path):\n",
    "    doc = None\n",
    "    try:\n",
    "        doc = word_app.Documents.Open(str(src))\n",
    "        doc.ExportAsFixedFormat(str(dst_pdf), WD_EXPORT_PDF)\n",
    "    finally:\n",
    "        if doc is not None:\n",
    "            doc.Close(False)\n"
   ]
  },
  {
   "cell_type": "code",
   "execution_count": 6,
   "id": "738c680e",
   "metadata": {},
   "outputs": [],
   "source": [
    "def export_ppt_to_pdf(ppt_app, src: Path, dst_pdf: Path):\n",
    "    pres = None\n",
    "    try:\n",
    "        pres = ppt_app.Presentations.Open(str(src), WithWindow=False)\n",
    "        pres.SaveAs(str(dst_pdf), PP_SAVE_AS_PDF)\n",
    "    finally:\n",
    "        if pres is not None:\n",
    "            pres.Close()\n"
   ]
  },
  {
   "cell_type": "code",
   "execution_count": 7,
   "id": "db1fd6c8",
   "metadata": {},
   "outputs": [],
   "source": [
    "def export_excel_sheet_pdfs(excel_app, src: Path, out_dir: Path):\n",
    "    \"\"\"\n",
    "    Reliable Excel export:\n",
    "    - If 1 visible sheet -> <stem>.pdf\n",
    "    - If >1 visible sheets -> one PDF per sheet: <stem>_<sheet>.pdf\n",
    "    Uses a temp 1-sheet workbook per sheet to avoid COM flakiness.\n",
    "    \"\"\"\n",
    "    wb = None\n",
    "    try:\n",
    "        # ReadOnly avoids prompts; UpdateLinks=0 skips link updates\n",
    "        wb = excel_app.Workbooks.Open(str(src), UpdateLinks=0, ReadOnly=True)\n",
    "\n",
    "        visible_sheets = [ws for ws in wb.Worksheets if ws.Visible == XL_SHEET_VISIBLE]\n",
    "\n",
    "        # No visible sheets -> export whole workbook\n",
    "        if len(visible_sheets) == 0:\n",
    "            target = out_dir / f\"{src.stem}.pdf\"\n",
    "            wb.ExportAsFixedFormat(XL_TYPE_PDF, str(target))\n",
    "            return\n",
    "\n",
    "        if len(visible_sheets) == 1:\n",
    "            # Export the single visible sheet only\n",
    "            target = out_dir / f\"{src.stem}.pdf\"\n",
    "            visible_sheets[0].Copy()   # creates new 1-sheet workbook as ActiveWorkbook\n",
    "            tmp = excel_app.ActiveWorkbook\n",
    "            try:\n",
    "                tmp.ExportAsFixedFormat(XL_TYPE_PDF, str(target))\n",
    "            finally:\n",
    "                tmp.Close(False)\n",
    "            return\n",
    "\n",
    "        # Multiple visible sheets -> one PDF per sheet\n",
    "        print(f\"{src.name}: {len(visible_sheets)} visible sheets -> exporting each to its own PDF\")\n",
    "        for ws in visible_sheets:\n",
    "            sheet_name = sanitize_filename_part(ws.Name)\n",
    "            target = out_dir / f\"{src.stem}_{sheet_name}.pdf\"\n",
    "\n",
    "            ws.Copy()   # new workbook with just this sheet\n",
    "            tmp = excel_app.ActiveWorkbook\n",
    "            try:\n",
    "                tmp.ExportAsFixedFormat(XL_TYPE_PDF, str(target))\n",
    "            finally:\n",
    "                tmp.Close(False)\n",
    "\n",
    "    finally:\n",
    "        if wb is not None:\n",
    "            wb.Close(False)\n"
   ]
  },
  {
   "cell_type": "code",
   "execution_count": 8,
   "id": "f56ca615",
   "metadata": {},
   "outputs": [],
   "source": [
    "def convert_one(apps: OfficeApps, src: Path, out_dir: Path):\n",
    "    out_dir.mkdir(parents=True, exist_ok=True)\n",
    "    ext = src.suffix.lower()\n",
    "\n",
    "    if ext == \".docx\":\n",
    "        export_word_to_pdf(apps.get_word(), src, out_dir / f\"{src.stem}.pdf\")\n",
    "        return True\n",
    "\n",
    "    if ext == \".pptx\":\n",
    "        export_ppt_to_pdf(apps.get_ppt(), src, out_dir / f\"{src.stem}.pdf\")\n",
    "        return True\n",
    "\n",
    "    if ext in {\".xlsx\", \".xlsm\", \".csv\"}:\n",
    "        export_excel_sheet_pdfs(apps.get_excel(), src, out_dir)\n",
    "        return True\n",
    "\n",
    "    return False"
   ]
  },
  {
   "cell_type": "code",
   "execution_count": 9,
   "id": "2db6140d",
   "metadata": {},
   "outputs": [],
   "source": [
    "def walk_and_convert(in_root: Path, out_root: Path):\n",
    "    apps = OfficeApps()\n",
    "    converted, failed = 0, []\n",
    "\n",
    "    try:\n",
    "        for root, _, files in os.walk(in_root):\n",
    "            for name in files:\n",
    "                src = Path(root) / name\n",
    "                if src.suffix.lower() not in SUPPORTED_EXTS:\n",
    "                    continue\n",
    "\n",
    "                rel_dir = Path(root).relative_to(in_root)\n",
    "                dst_dir = out_root / rel_dir\n",
    "\n",
    "                try:\n",
    "                    ok = convert_one(apps, src, dst_dir)\n",
    "                    if ok:\n",
    "                        converted += 1\n",
    "                        print(f\"OK   -> {src}\")\n",
    "                    else:\n",
    "                        print(f\"SKIP -> {src}\")\n",
    "                except Exception as e:\n",
    "                    failed.append((str(src), str(e)))\n",
    "                    print(f\"FAIL -> {src} : {e}\", file=sys.stderr)\n",
    "    finally:\n",
    "        apps.close()\n",
    "\n",
    "    print(f\"\\nConverted files: {converted}\")\n",
    "    if failed:\n",
    "        print(\"Failures:\")\n",
    "        for f, err in failed:\n",
    "            print(f\" - {f}\\n   {err}\")\n",
    "\n"
   ]
  },
  {
   "cell_type": "code",
   "execution_count": 10,
   "id": "e208095e",
   "metadata": {},
   "outputs": [
    {
     "name": "stdout",
     "output_type": "stream",
     "text": [
      "\n",
      "Converted files: 0\n",
      "Failures:\n",
      " - C:\\Users\\Ashvini\\Downloads\\InputFiles\\Node_Exporter_Metrics.csv\n",
      "   (-2147352567, 'Exception occurred.', (0, None, None, None, 0, -2146827284), None)\n"
     ]
    },
    {
     "name": "stderr",
     "output_type": "stream",
     "text": [
      "FAIL -> C:\\Users\\Ashvini\\Downloads\\InputFiles\\Node_Exporter_Metrics.csv : (-2147352567, 'Exception occurred.', (0, None, None, None, 0, -2146827284), None)\n"
     ]
    }
   ],
   "source": [
    "if __name__ == \"__main__\":\n",
    "    in_dir = Path(r\"C:\\Users\\Ashvini\\Downloads\\InputFiles\").resolve()\n",
    "    out_dir = Path(r\"C:\\Users\\Ashvini\\Downloads\\OutputPDFs\").resolve()\n",
    "    out_dir.mkdir(parents=True, exist_ok=True)\n",
    "    walk_and_convert(in_dir, out_dir)"
   ]
  }
 ],
 "metadata": {
  "kernelspec": {
   "display_name": "Python 3",
   "language": "python",
   "name": "python3"
  },
  "language_info": {
   "codemirror_mode": {
    "name": "ipython",
    "version": 3
   },
   "file_extension": ".py",
   "mimetype": "text/x-python",
   "name": "python",
   "nbconvert_exporter": "python",
   "pygments_lexer": "ipython3",
   "version": "3.9.2"
  }
 },
 "nbformat": 4,
 "nbformat_minor": 5
}
